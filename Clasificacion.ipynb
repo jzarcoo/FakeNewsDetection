{
 "cells": [
  {
   "cell_type": "code",
   "execution_count": 2,
   "metadata": {},
   "outputs": [],
   "source": [
    "import pandas as pd"
   ]
  },
  {
   "cell_type": "code",
   "execution_count": 3,
   "metadata": {},
   "outputs": [],
   "source": [
    "from sklearn.model_selection import train_test_split\n",
    "from sklearn.model_selection import cross_val_score, KFold"
   ]
  },
  {
   "cell_type": "code",
   "execution_count": 4,
   "metadata": {},
   "outputs": [],
   "source": [
    "from sklearn.feature_extraction.text import TfidfVectorizer\n",
    "from sklearn.ensemble import RandomForestClassifier\n",
    "from sklearn.svm import SVC\n",
    "from sklearn.linear_model import LogisticRegression"
   ]
  },
  {
   "cell_type": "code",
   "execution_count": 5,
   "metadata": {},
   "outputs": [],
   "source": [
    "import re\n",
    "import string"
   ]
  },
  {
   "cell_type": "code",
   "execution_count": 6,
   "metadata": {},
   "outputs": [],
   "source": [
    "def limpia_texto(texto):\n",
    "    texto = texto.lower()\n",
    "    texto = re.sub(r'\\d+', '', texto) # números\n",
    "    texto = texto.translate(str.maketrans('', '', string.punctuation))  # signos de puntuación\n",
    "    texto = re.sub(r'\\s+', ' ', texto).strip() # espacios\n",
    "    return ' '.join([p for p in texto.split() if p.isalpha()])"
   ]
  },
  {
   "cell_type": "code",
   "execution_count": 7,
   "metadata": {},
   "outputs": [],
   "source": [
    "df = pd.read_csv(\"./dataset/df_completo.csv\")"
   ]
  },
  {
   "cell_type": "code",
   "execution_count": 8,
   "metadata": {},
   "outputs": [],
   "source": [
    "\n",
    "df['texto_limpio'] = df[\"text\"].apply(limpia_texto)"
   ]
  },
  {
   "cell_type": "code",
   "execution_count": 9,
   "metadata": {},
   "outputs": [
    {
     "data": {
      "text/plain": [
       "0        donald trump just couldn t wish all americans ...\n",
       "1        house intelligence committee chairman devin nu...\n",
       "2        on friday it was revealed that former milwauke...\n",
       "3        on christmas day donald trump announced that h...\n",
       "4        pope francis used his annual christmas day mes...\n",
       "                               ...                        \n",
       "44674    brussels reuters nato allies on tuesday welcom...\n",
       "44675    london reuters lexisnexis a provider of legal ...\n",
       "44676    minsk reuters in the shadow of disused soviete...\n",
       "44677    moscow reuters vatican secretary of state card...\n",
       "44678    jakarta reuters indonesia will buy sukhoi figh...\n",
       "Name: texto_limpio, Length: 44679, dtype: object"
      ]
     },
     "execution_count": 9,
     "metadata": {},
     "output_type": "execute_result"
    }
   ],
   "source": [
    "df['texto_limpio']"
   ]
  },
  {
   "cell_type": "code",
   "execution_count": 10,
   "metadata": {},
   "outputs": [],
   "source": [
    "def random_forest():\n",
    "    model = RandomForestClassifier(random_state=42)\n",
    "    return model"
   ]
  },
  {
   "cell_type": "code",
   "execution_count": 11,
   "metadata": {},
   "outputs": [],
   "source": [
    "def svc():\n",
    "    model = SVC(random_state=42)\n",
    "    return model"
   ]
  },
  {
   "cell_type": "code",
   "execution_count": 12,
   "metadata": {},
   "outputs": [],
   "source": [
    "def logistic():\n",
    "    model = LogisticRegression(random_state=42)\n",
    "    return model"
   ]
  },
  {
   "cell_type": "code",
   "execution_count": 13,
   "metadata": {},
   "outputs": [],
   "source": [
    "modelos = {\n",
    "    \"support_vector_classification\": svc(),\n",
    "    \"random_forest_classifier\": random_forest(),\n",
    "    \"logistic_regression\": logistic(),\n",
    "}"
   ]
  },
  {
   "cell_type": "code",
   "execution_count": 14,
   "metadata": {},
   "outputs": [],
   "source": [
    "vectorizer = TfidfVectorizer(stop_words='english')\n",
    "X = vectorizer.fit_transform(df['texto_limpio'])\n",
    "X_train, X_test, y_train, y_test = train_test_split(X, df['label'], test_size=0.3, random_state=42)"
   ]
  },
  {
   "cell_type": "code",
   "execution_count": 15,
   "metadata": {},
   "outputs": [],
   "source": [
    "cv = KFold(n_splits=5, shuffle=True, random_state=42)"
   ]
  },
  {
   "cell_type": "code",
   "execution_count": 17,
   "metadata": {},
   "outputs": [
    {
     "name": "stdout",
     "output_type": "stream",
     "text": [
      "support_vector_classification: Accuracy = 0.9851 ± 0.0021\n",
      "random_forest_classifier: Accuracy = 0.9782 ± 0.0026\n",
      "logistic_regression: Accuracy = 0.9785 ± 0.0010\n"
     ]
    }
   ],
   "source": [
    "for nombre, modelo in modelos.items():\n",
    "    cv_scores = cross_val_score(modelo, X_test, y_test, cv=cv, scoring='f1')\n",
    "    print(f\"{nombre}: Accuracy = {cv_scores.mean():.4f} ± {cv_scores.std():.4f}\")"
   ]
  },
  {
   "cell_type": "code",
   "execution_count": 18,
   "metadata": {},
   "outputs": [],
   "source": [
    "path = \"./dataset/\"\n",
    "df.to_csv(path + \"dataset_limpio.csv\", index=False)"
   ]
  },
  {
   "cell_type": "code",
   "execution_count": null,
   "metadata": {},
   "outputs": [],
   "source": []
  }
 ],
 "metadata": {
  "kernelspec": {
   "display_name": ".fake_env",
   "language": "python",
   "name": "python3"
  },
  "language_info": {
   "codemirror_mode": {
    "name": "ipython",
    "version": 3
   },
   "file_extension": ".py",
   "mimetype": "text/x-python",
   "name": "python",
   "nbconvert_exporter": "python",
   "pygments_lexer": "ipython3",
   "version": "3.12.9"
  }
 },
 "nbformat": 4,
 "nbformat_minor": 2
}
