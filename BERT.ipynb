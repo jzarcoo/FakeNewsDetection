{
 "cells": [
  {
   "cell_type": "code",
   "execution_count": 15,
   "id": "0f11150f-c01b-4693-b344-5a14a5bc809c",
   "metadata": {},
   "outputs": [],
   "source": [
    "import tensorflow as tf\n",
    "import tensorflow_hub as hub\n",
    "import tensorflow_text as text\n",
    "from official.nlp import optimization"
   ]
  },
  {
   "cell_type": "code",
   "execution_count": 16,
   "id": "74cb043f-87cf-4af8-b9a5-2733b788b8b4",
   "metadata": {},
   "outputs": [],
   "source": [
    "import matplotlib.pyplot as plt\n",
    "import numpy as np\n",
    "import pandas as pd\n",
    "import seaborn as sns\n",
    "from sklearn.metrics import accuracy_score, classification_report, confusion_matrix"
   ]
  },
  {
   "cell_type": "code",
   "execution_count": 30,
   "id": "634f6152-b508-4af9-b60d-9580e5a4f442",
   "metadata": {},
   "outputs": [],
   "source": [
    "import json"
   ]
  },
  {
   "cell_type": "code",
   "execution_count": 6,
   "id": "f03e98b5-55c4-4dcd-acd6-40e7bcb887e5",
   "metadata": {},
   "outputs": [],
   "source": [
    "import nltk\n",
    "from nltk.tokenize import word_tokenize"
   ]
  },
  {
   "cell_type": "code",
   "execution_count": 17,
   "id": "e8ee8977-8f51-4d2b-9ff9-d5109e1a0765",
   "metadata": {},
   "outputs": [],
   "source": [
    "path = \"./dataset/\"\n",
    "df = pd.read_csv(path + \"df_completo.csv\")"
   ]
  },
  {
   "cell_type": "markdown",
   "id": "71346968-783e-44e2-a078-0d2436d8b223",
   "metadata": {},
   "source": [
    "Divide el conjunto de datos en entrenamiento, validación y prueba"
   ]
  },
  {
   "cell_type": "code",
   "execution_count": 18,
   "id": "a5041051-22c4-4e12-9c78-55cda270a237",
   "metadata": {},
   "outputs": [],
   "source": [
    "train_df = df.sample(frac=0.8, random_state=42)\n",
    "test_df = df.drop(train_df.index)\n",
    "val_df = train_df.sample(frac=0.2, random_state=42)\n",
    "train_df = train_df.drop(val_df.index)"
   ]
  },
  {
   "cell_type": "code",
   "execution_count": 5,
   "id": "bc99e66a-1be9-4545-b69f-502f623df901",
   "metadata": {},
   "outputs": [
    {
     "name": "stdout",
     "output_type": "stream",
     "text": [
      "Test:  (8978, 12)\n",
      "Validation:  (7182, 12)\n",
      "Train:  (28728, 12)\n",
      "Total:  44888\n"
     ]
    }
   ],
   "source": [
    "print(\"Test: \", test_df.shape)\n",
    "print(\"Validation: \", val_df.shape)\n",
    "print(\"Train: \", train_df.shape)\n",
    "print(\"Total: \", test_df.shape[0] + val_df.shape[0] + train_df.shape[0])"
   ]
  },
  {
   "cell_type": "code",
   "execution_count": 7,
   "id": "e1e55ca5-8a92-4d7d-b7d8-0cd5b64493f9",
   "metadata": {},
   "outputs": [
    {
     "name": "stdout",
     "output_type": "stream",
     "text": [
      "Promedio de tokens: 453.54424345036534\n"
     ]
    }
   ],
   "source": [
    "average_tokens = df['text'].apply(lambda text: len(word_tokenize(text))).mean()\n",
    "\n",
    "print(f'Promedio de tokens: {average_tokens}')"
   ]
  },
  {
   "cell_type": "code",
   "execution_count": 8,
   "id": "20f179d7-4e4c-4f00-8f74-4287619606d7",
   "metadata": {},
   "outputs": [],
   "source": [
    "handle_encoder = {\n",
    "    'small_bert/bert_en_uncased_L-4_H-512_A-8':\n",
    "        'https://tfhub.dev/tensorflow/small_bert/bert_en_uncased_L-4_H-512_A-8/1',\n",
    "}"
   ]
  },
  {
   "cell_type": "code",
   "execution_count": 9,
   "id": "23bb96e6-782a-4ef7-b633-191f3a3abedd",
   "metadata": {},
   "outputs": [],
   "source": [
    "handle_preprocess = {\n",
    "    'small_bert/bert_en_uncased_L-4_H-512_A-8':\n",
    "        'https://tfhub.dev/tensorflow/bert_en_uncased_preprocess/3',\n",
    "}"
   ]
  },
  {
   "cell_type": "code",
   "execution_count": 10,
   "id": "0ef29f0b-a6b6-47eb-b37e-c3055681eee7",
   "metadata": {},
   "outputs": [
    {
     "name": "stdout",
     "output_type": "stream",
     "text": [
      "BERT model selected           : https://tfhub.dev/tensorflow/small_bert/bert_en_uncased_L-4_H-512_A-8/1\n",
      "Preprocess model auto-selected: https://tfhub.dev/tensorflow/bert_en_uncased_preprocess/3\n"
     ]
    }
   ],
   "source": [
    "bert_model_name = 'small_bert/bert_en_uncased_L-4_H-512_A-8'\n",
    "\n",
    "bert_encoder = handle_encoder[bert_model_name]\n",
    "bert_preprocess = handle_preprocess[bert_model_name]\n",
    "\n",
    "print(f'BERT model selected           : {bert_encoder}')\n",
    "print(f'Preprocess model auto-selected: {bert_preprocess}')"
   ]
  },
  {
   "cell_type": "code",
   "execution_count": 11,
   "id": "9354e4e5-67b1-4b84-aee8-cbf5ccc326df",
   "metadata": {},
   "outputs": [],
   "source": [
    "bert_preprocess_model = hub.KerasLayer(bert_preprocess)"
   ]
  },
  {
   "cell_type": "code",
   "execution_count": 12,
   "id": "d28b2310-db5e-42ed-b17e-cd008d40ae38",
   "metadata": {},
   "outputs": [
    {
     "name": "stdout",
     "output_type": "stream",
     "text": [
      "Donald Trump just couldn t wish all Americans a Happy New Year and leave it at that. Instead, he had to give a shout out to his enemies, haters and  the very dishonest fake news media.  The former reality show star had just one job to do and he couldn t do it. As our Country rapidly grows stronger a\n"
     ]
    }
   ],
   "source": [
    "ejemplo = df['text'][0]\n",
    "print(ejemplo[:300])\n",
    "text_test = [ejemplo]\n",
    "text_preprocessed = bert_preprocess_model(text_test)"
   ]
  },
  {
   "cell_type": "code",
   "execution_count": 13,
   "id": "714426b2-9190-4e88-bc94-fae23986b189",
   "metadata": {},
   "outputs": [
    {
     "name": "stdout",
     "output_type": "stream",
     "text": [
      "Keys       : ['input_type_ids', 'input_mask', 'input_word_ids']\n",
      "Shape      : (1, 128)\n",
      "Word Ids   : [ 101 6221 8398 2074 2481 1056 4299 2035 4841 1037 3407 2047]\n",
      "Input Mask : [1 1 1 1 1 1 1 1 1 1 1 1]\n",
      "Type Ids   : [0 0 0 0 0 0 0 0 0 0 0 0]\n"
     ]
    }
   ],
   "source": [
    "print(f'Keys       : {list(text_preprocessed.keys())}')\n",
    "print(f'Shape      : {text_preprocessed[\"input_word_ids\"].shape}')\n",
    "print(f'Word Ids   : {text_preprocessed[\"input_word_ids\"][0, :12]}')\n",
    "print(f'Input Mask : {text_preprocessed[\"input_mask\"][0, :12]}')\n",
    "print(f'Type Ids   : {text_preprocessed[\"input_type_ids\"][0, :12]}')"
   ]
  },
  {
   "cell_type": "code",
   "execution_count": 14,
   "id": "4429a8c6-64aa-4dea-a90c-f9824f2963e7",
   "metadata": {},
   "outputs": [],
   "source": [
    "bert_model = hub.KerasLayer(bert_encoder)"
   ]
  },
  {
   "cell_type": "code",
   "execution_count": 15,
   "id": "47900154-e996-4663-a111-b30f59ea1411",
   "metadata": {},
   "outputs": [
    {
     "name": "stdout",
     "output_type": "stream",
     "text": [
      "Loaded BERT: https://tfhub.dev/tensorflow/small_bert/bert_en_uncased_L-4_H-512_A-8/1\n",
      "Pooled Outputs Shape:(1, 512)\n",
      "Pooled Outputs Values:[-0.38383743  0.99906754 -0.33345526  0.24275582  0.00548695 -0.8419128\n",
      "  0.9907584  -0.9580104  -0.5244734  -0.9812168  -0.4539475  -0.45915237]\n",
      "Sequence Outputs Shape:(1, 128, 512)\n",
      "Sequence Outputs Values:[[ 0.03366964 -0.5598196   0.8219307  ... -0.7387405   0.36061755\n",
      "   0.5865588 ]\n",
      " [ 0.8805909   0.7951543  -0.3251872  ... -1.6401056  -0.17664099\n",
      "   0.61988837]\n",
      " [-0.22252081  0.30826443  0.8413201  ... -0.5016649   1.4924184\n",
      "  -0.93998665]\n",
      " ...\n",
      " [-0.5809002  -0.4837727  -0.06616035 ... -0.45230436 -0.98680437\n",
      "   0.94981784]\n",
      " [-0.11579455 -1.6830171   1.1207352  ... -1.0249656  -0.4304437\n",
      "   0.88629407]\n",
      " [-0.10072567 -0.23767962  0.38406843 ...  0.6513421  -0.8575418\n",
      "  -0.46584442]]\n"
     ]
    }
   ],
   "source": [
    "bert_results = bert_model(text_preprocessed)\n",
    "\n",
    "print(f'Loaded BERT: {bert_encoder}')\n",
    "print(f'Pooled Outputs Shape:{bert_results[\"pooled_output\"].shape}')\n",
    "print(f'Pooled Outputs Values:{bert_results[\"pooled_output\"][0, :12]}')\n",
    "print(f'Sequence Outputs Shape:{bert_results[\"sequence_output\"].shape}')\n",
    "print(f'Sequence Outputs Values:{bert_results[\"sequence_output\"][0, :12]}')"
   ]
  },
  {
   "cell_type": "code",
   "execution_count": 19,
   "id": "89a15742-e19d-4e6b-9117-f0e59a9bedf5",
   "metadata": {},
   "outputs": [],
   "source": [
    "def df_to_dataset(dataframe, shuffle=True, batch_size=32, fraction=1.0):\n",
    "    if fraction < 1.0:\n",
    "        dataframe = dataframe.sample(frac=fraction, random_state=42)\n",
    "    print(f\"Número de ejemplares después de aplicar fraction={fraction}: {len(dataframe)}\")\n",
    "    dataframe = dataframe.copy()\n",
    "    labels = dataframe.pop('label')\n",
    "    ds = tf.data.Dataset.from_tensor_slices((dataframe['text'].values, labels.values))\n",
    "    if shuffle:\n",
    "        ds = ds.shuffle(buffer_size=len(dataframe))\n",
    "    ds = ds.batch(batch_size)\n",
    "    ds = ds.prefetch(buffer_size=tf.data.AUTOTUNE)\n",
    "    return ds"
   ]
  },
  {
   "cell_type": "code",
   "execution_count": 20,
   "id": "79c9dff7-1a9b-4ccd-a96b-f634d1a2c17b",
   "metadata": {},
   "outputs": [
    {
     "name": "stdout",
     "output_type": "stream",
     "text": [
      "Número de ejemplares después de aplicar fraction=0.1: 2859\n",
      "Número de ejemplares después de aplicar fraction=1.0: 7149\n",
      "Número de ejemplares después de aplicar fraction=1.0: 8936\n"
     ]
    }
   ],
   "source": [
    "batch_size = 32\n",
    "train_ds = df_to_dataset(train_df, batch_size=batch_size, fraction=0.1)\n",
    "val_ds = df_to_dataset(val_df, shuffle=False, batch_size=batch_size)\n",
    "test_ds = df_to_dataset(test_df, shuffle=False, batch_size=batch_size)"
   ]
  },
  {
   "cell_type": "code",
   "execution_count": 18,
   "id": "4b54cb0c-e924-4894-b554-84deed1f477d",
   "metadata": {},
   "outputs": [],
   "source": [
    "def build_classifier_model():\n",
    "  text_input = tf.keras.layers.Input(shape=(), dtype=tf.string, name='text')\n",
    "  preprocessing_layer = hub.KerasLayer(bert_preprocess, name='preprocessing')\n",
    "  encoder_inputs = preprocessing_layer(text_input)\n",
    "  encoder = hub.KerasLayer(bert_encoder, trainable=True, name='BERT_encoder')\n",
    "  outputs = encoder(encoder_inputs)\n",
    "  net = outputs['pooled_output']\n",
    "  net = tf.keras.layers.Dropout(0.1)(net)\n",
    "  net = tf.keras.layers.Dense(1, activation=None, name='classifier')(net)\n",
    "  return tf.keras.Model(text_input, net)"
   ]
  },
  {
   "cell_type": "code",
   "execution_count": 19,
   "id": "e9a58d4a-9eb4-4129-8d02-4102b45e844d",
   "metadata": {},
   "outputs": [],
   "source": [
    "classifier_model = build_classifier_model()"
   ]
  },
  {
   "cell_type": "code",
   "execution_count": 31,
   "id": "df4c9142-3988-4d53-8442-2cd74f9f32b0",
   "metadata": {},
   "outputs": [
    {
     "name": "stdout",
     "output_type": "stream",
     "text": [
      "Model: \"model\"\n",
      "__________________________________________________________________________________________________\n",
      " Layer (type)                Output Shape                 Param #   Connected to                  \n",
      "==================================================================================================\n",
      " text (InputLayer)           [(None,)]                    0         []                            \n",
      "                                                                                                  \n",
      " preprocessing (KerasLayer)  {'input_type_ids': (None,    0         ['text[0][0]']                \n",
      "                             128),                                                                \n",
      "                              'input_mask': (None, 128)                                           \n",
      "                             , 'input_word_ids': (None,                                           \n",
      "                              128)}                                                               \n",
      "                                                                                                  \n",
      " BERT_encoder (KerasLayer)   {'pooled_output': (None, 5   2876364   ['preprocessing[0][0]',       \n",
      "                             12),                         9          'preprocessing[0][1]',       \n",
      "                              'sequence_output': (None,              'preprocessing[0][2]']       \n",
      "                              128, 512),                                                          \n",
      "                              'encoder_outputs': [(None                                           \n",
      "                             , 128, 512),                                                         \n",
      "                              (None, 128, 512),                                                   \n",
      "                              (None, 128, 512),                                                   \n",
      "                              (None, 128, 512)],                                                  \n",
      "                              'default': (None, 512)}                                             \n",
      "                                                                                                  \n",
      " dropout (Dropout)           (None, 512)                  0         ['BERT_encoder[0][5]']        \n",
      "                                                                                                  \n",
      " classifier (Dense)          (None, 1)                    513       ['dropout[0][0]']             \n",
      "                                                                                                  \n",
      "==================================================================================================\n",
      "Total params: 28764162 (109.73 MB)\n",
      "Trainable params: 28764161 (109.73 MB)\n",
      "Non-trainable params: 1 (1.00 Byte)\n",
      "__________________________________________________________________________________________________\n"
     ]
    }
   ],
   "source": [
    "classifier_model.summary()"
   ]
  },
  {
   "cell_type": "code",
   "execution_count": 20,
   "id": "adffb07b-bfad-431e-8307-a6723687713f",
   "metadata": {},
   "outputs": [
    {
     "data": {
      "image/png": "[encoded data removed]",
      "text/plain": [
       "<IPython.core.display.Image object>"
      ]
     },
     "execution_count": 20,
     "metadata": {},
     "output_type": "execute_result"
    }
   ],
   "source": [
    "tf.keras.utils.plot_model(classifier_model)"
   ]
  },
  {
   "cell_type": "code",
   "execution_count": 21,
   "id": "61f07388-bd23-417a-9311-362db68c79f2",
   "metadata": {},
   "outputs": [],
   "source": [
    "loss = tf.keras.losses.BinaryCrossentropy()\n",
    "metrics = tf.metrics.BinaryAccuracy()"
   ]
  },
  {
   "cell_type": "code",
   "execution_count": 22,
   "id": "16c2f3af-7c6f-4107-ac2e-66d46893c147",
   "metadata": {},
   "outputs": [],
   "source": [
    "epochs = 5\n",
    "steps_per_epoch = tf.data.experimental.cardinality(train_ds).numpy()\n",
    "num_train_steps = steps_per_epoch * epochs\n",
    "num_warmup_steps = int(0.1*num_train_steps)\n",
    "\n",
    "init_lr = 3e-5\n",
    "optimizer = optimization.create_optimizer(init_lr=init_lr,\n",
    "                                          num_train_steps=num_train_steps,\n",
    "                                          num_warmup_steps=num_warmup_steps,\n",
    "                                          optimizer_type='adamw')"
   ]
  },
  {
   "cell_type": "code",
   "execution_count": 23,
   "id": "89f07bf3-2ba8-48b1-ad7a-22fbfa609606",
   "metadata": {},
   "outputs": [],
   "source": [
    "classifier_model.compile(optimizer=optimizer,\n",
    "                         loss=loss,\n",
    "                         metrics=metrics)"
   ]
  },
  {
   "cell_type": "code",
   "execution_count": 24,
   "id": "411ffed1-ac19-476e-a364-862016dded84",
   "metadata": {},
   "outputs": [
    {
     "name": "stdout",
     "output_type": "stream",
     "text": [
      "Entrenando el modelo...\n",
      "Epoch 1/5\n",
      "90/90 [==============================] - 617s 7s/step - loss: 0.9011 - binary_accuracy: 0.8531 - val_loss: 0.0291 - val_binary_accuracy: 0.9972\n",
      "Epoch 2/5\n",
      "90/90 [==============================] - 613s 7s/step - loss: 0.0222 - binary_accuracy: 0.9983 - val_loss: 0.0226 - val_binary_accuracy: 0.9979\n",
      "Epoch 3/5\n",
      "90/90 [==============================] - 604s 7s/step - loss: 0.0020 - binary_accuracy: 0.9993 - val_loss: 0.0132 - val_binary_accuracy: 0.9990\n",
      "Epoch 4/5\n",
      "90/90 [==============================] - 562s 6s/step - loss: 2.0039e-04 - binary_accuracy: 1.0000 - val_loss: 0.0158 - val_binary_accuracy: 0.9989\n",
      "Epoch 5/5\n",
      "90/90 [==============================] - 540s 6s/step - loss: 1.4090e-04 - binary_accuracy: 1.0000 - val_loss: 0.0138 - val_binary_accuracy: 0.9989\n"
     ]
    }
   ],
   "source": [
    "print(\"Entrenando el modelo...\")\n",
    "history = classifier_model.fit(x=train_ds,\n",
    "                               validation_data=val_ds,\n",
    "                               epochs=epochs)"
   ]
  },
  {
   "cell_type": "code",
   "execution_count": 25,
   "id": "029db6bf-8dae-4e2d-afcf-f2a74154d77e",
   "metadata": {},
   "outputs": [
    {
     "name": "stdout",
     "output_type": "stream",
     "text": [
      "281/281 [==============================] - 322s 1s/step - loss: 0.0197 - binary_accuracy: 0.9982\n",
      "Loss: 0.019741427153348923\n",
      "Accuracy: 0.9982178807258606\n"
     ]
    }
   ],
   "source": [
    "loss, accuracy = classifier_model.evaluate(test_ds)\n",
    "\n",
    "print(f'Loss: {loss}')\n",
    "print(f'Accuracy: {accuracy}')"
   ]
  },
  {
   "cell_type": "code",
   "execution_count": 26,
   "id": "88d7becd-1da5-4a4a-ad66-c67ef847c378",
   "metadata": {},
   "outputs": [
    {
     "name": "stdout",
     "output_type": "stream",
     "text": [
      "dict_keys(['loss', 'binary_accuracy', 'val_loss', 'val_binary_accuracy'])\n"
     ]
    }
   ],
   "source": [
    "history_dict = history.history\n",
    "print(history_dict.keys())"
   ]
  },
  {
   "cell_type": "code",
   "execution_count": 27,
   "id": "35f298e1-7959-46db-b9ec-f19d14640f69",
   "metadata": {},
   "outputs": [],
   "source": [
    "acc = history_dict['binary_accuracy']\n",
    "val_acc = history_dict['val_binary_accuracy']\n",
    "loss = history_dict['loss']\n",
    "val_loss = history_dict['val_loss']"
   ]
  },
  {
   "cell_type": "code",
   "execution_count": 46,
   "id": "3ffa2856-b9fb-466a-b0c6-7a20cd3bfaba",
   "metadata": {},
   "outputs": [
    {
     "data": {
      "image/png": "[encoded data removed]",
      "text/plain": [
       "<Figure size 1000x1200 with 2 Axes>"
      ]
     },
     "metadata": {},
     "output_type": "display_data"
    }
   ],
   "source": [
    "epochs = range(1, len(acc) + 1)\n",
    "fig = plt.figure(figsize=(10, 12))\n",
    "fig.tight_layout()\n",
    "\n",
    "plt.subplot(2, 1, 1)\n",
    "plt.plot(epochs, loss, 'r', label='Training loss')\n",
    "plt.plot(epochs, val_loss, 'b', label='Validation loss')\n",
    "plt.title('Training and validation loss')\n",
    "plt.xlabel('Epochs')\n",
    "plt.ylabel('Loss')\n",
    "plt.legend()\n",
    "\n",
    "plt.subplot(2, 1, 2)\n",
    "plt.plot(epochs, acc, 'r', label='Training acc')\n",
    "plt.plot(epochs, val_acc, 'b', label='Validation acc')\n",
    "plt.title('Training and validation accuracy')\n",
    "plt.xlabel('Epochs')\n",
    "plt.ylabel('Accuracy')\n",
    "plt.legend(loc='lower right')\n",
    "\n",
    "plt.show()"
   ]
  },
  {
   "cell_type": "code",
   "execution_count": 47,
   "id": "b0c0ef2e-44a8-43e4-a010-20632154e9da",
   "metadata": {},
   "outputs": [],
   "source": [
    "classifier_model.save(\"./modelo_bert/bert.keras\")"
   ]
  },
  {
   "cell_type": "code",
   "execution_count": 48,
   "id": "865a8f15-60c5-4870-a9ae-637dadfeec26",
   "metadata": {},
   "outputs": [],
   "source": [
    "classifier_model.save_weights(\"./modelo_bert/bert.h5\")"
   ]
  },
  {
   "cell_type": "code",
   "execution_count": 50,
   "id": "4bca5d56-abe1-4a75-bca7-b091dd5aee5b",
   "metadata": {},
   "outputs": [],
   "source": [
    "with open('./modelo_bert/bert.json', 'w') as f:\n",
    "    json.dump(history.history, f)"
   ]
  },
  {
   "cell_type": "code",
   "execution_count": 36,
   "id": "6d79140b-b798-4512-af3a-c69c1ab5cc79",
   "metadata": {},
   "outputs": [
    {
     "name": "stdout",
     "output_type": "stream",
     "text": [
      "281/281 [==============================] - 344s 1s/step\n"
     ]
    }
   ],
   "source": [
    "y_predicted = classifier_model.predict(test_ds)"
   ]
  },
  {
   "cell_type": "code",
   "execution_count": 37,
   "id": "3ffeb6b7-ee91-4c40-8cd2-680f025293a1",
   "metadata": {},
   "outputs": [],
   "source": [
    "y_pred = np.where(y_predicted > 0.5, 1, 0)"
   ]
  },
  {
   "cell_type": "code",
   "execution_count": 38,
   "id": "b58bff4e-7d9c-43c7-99fc-455cff1ec6a9",
   "metadata": {},
   "outputs": [],
   "source": [
    "y_true = []\n",
    "for _, labels in test_ds:\n",
    "    y_true.append(labels)\n",
    "y_true = np.concatenate(y_true, axis=0)"
   ]
  },
  {
   "cell_type": "code",
   "execution_count": 39,
   "id": "698b8f90-584c-42d2-a232-72167fd95cc3",
   "metadata": {},
   "outputs": [
    {
     "name": "stdout",
     "output_type": "stream",
     "text": [
      "Exactitud del modelo optimizado: 0.9982\n"
     ]
    }
   ],
   "source": [
    "accuracy = accuracy_score(y_true, y_pred)\n",
    "print(f'Exactitud del modelo optimizado: {accuracy:.4f}')"
   ]
  },
  {
   "cell_type": "code",
   "execution_count": 40,
   "id": "990b92fb-724c-4c24-a7f4-808e4889fee9",
   "metadata": {},
   "outputs": [
    {
     "name": "stdout",
     "output_type": "stream",
     "text": [
      "Reporte de clasificación del modelo optimizado:\n",
      "              precision    recall  f1-score   support\n",
      "\n",
      "    Negativo       1.00      1.00      1.00      4754\n",
      "    Positivo       1.00      1.00      1.00      4224\n",
      "\n",
      "    accuracy                           1.00      8978\n",
      "   macro avg       1.00      1.00      1.00      8978\n",
      "weighted avg       1.00      1.00      1.00      8978\n",
      "\n"
     ]
    }
   ],
   "source": [
    "report = classification_report(y_true, y_pred, target_names=['Negativo', 'Positivo'])\n",
    "print('Reporte de clasificación del modelo optimizado:')\n",
    "print(report)"
   ]
  },
  {
   "cell_type": "code",
   "execution_count": 41,
   "id": "51c0b442-c9dc-4447-8c68-eee4133ffdcd",
   "metadata": {},
   "outputs": [
    {
     "name": "stdout",
     "output_type": "stream",
     "text": [
      "Matriz de Confusión:\n",
      "[[4745    9]\n",
      " [   7 4217]]\n"
     ]
    }
   ],
   "source": [
    "conf_matrix = confusion_matrix(y_true, y_pred)\n",
    "print(\"Matriz de Confusión:\")\n",
    "print(conf_matrix)"
   ]
  },
  {
   "cell_type": "code",
   "execution_count": 51,
   "id": "d8ed952a-911a-440e-9b84-b66244ce66d8",
   "metadata": {},
   "outputs": [
    {
     "data": {
      "image/png": "[encoded data removed]",
      "text/plain": [
       "<Figure size 600x500 with 2 Axes>"
      ]
     },
     "metadata": {},
     "output_type": "display_data"
    }
   ],
   "source": [
    "plt.figure(figsize=(6, 5))\n",
    "sns.heatmap(conf_matrix, annot=True, fmt=\"d\", cmap=\"Purples\", xticklabels=[\"Negativo\", \"Positivo\"], yticklabels=[\"Negativo\", \"Positivo\"])\n",
    "plt.ylabel('Etiqueta Real')\n",
    "plt.xlabel('Predicciones')\n",
    "plt.title('Matriz de Confusión')\n",
    "plt.show()"
   ]
  },
  {
   "cell_type": "code",
   "execution_count": null,
   "id": "6ddbd1de-dcda-4903-b38e-b3e212d44a7e",
   "metadata": {},
   "outputs": [],
   "source": []
  }
 ],
 "metadata": {
  "kernelspec": {
   "display_name": "Python 3 (ipykernel)",
   "language": "python",
   "name": "python3"
  },
  "language_info": {
   "codemirror_mode": {
    "name": "ipython",
    "version": 3
   },
   "file_extension": ".py",
   "mimetype": "text/x-python",
   "name": "python",
   "nbconvert_exporter": "python",
   "pygments_lexer": "ipython3",
   "version": "3.11.9"
  }
 },
 "nbformat": 4,
 "nbformat_minor": 5
}
