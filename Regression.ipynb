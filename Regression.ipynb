{
 "cells": [
  {
   "cell_type": "code",
   "execution_count": 106,
   "metadata": {},
   "outputs": [],
   "source": [
    "import numpy as np\n",
    "import pandas as pd "
   ]
  },
  {
   "cell_type": "code",
   "execution_count": 107,
   "metadata": {},
   "outputs": [],
   "source": [
    "KAGGLE = False"
   ]
  },
  {
   "cell_type": "code",
   "execution_count": 108,
   "metadata": {},
   "outputs": [
    {
     "data": {
      "application/vnd.microsoft.datawrangler.viewer.v0+json": {
       "columns": [
        {
         "name": "index",
         "rawType": "int64",
         "type": "integer"
        },
        {
         "name": "text",
         "rawType": "object",
         "type": "string"
        },
        {
         "name": "news_link",
         "rawType": "object",
         "type": "string"
        },
        {
         "name": "outlet",
         "rawType": "object",
         "type": "string"
        },
        {
         "name": "topic",
         "rawType": "object",
         "type": "string"
        },
        {
         "name": "type",
         "rawType": "object",
         "type": "string"
        },
        {
         "name": "label_bias",
         "rawType": "object",
         "type": "string"
        },
        {
         "name": "label_opinion",
         "rawType": "object",
         "type": "string"
        },
        {
         "name": "biased_words",
         "rawType": "object",
         "type": "string"
        }
       ],
       "conversionMethod": "pd.DataFrame",
       "ref": "d20014cb-e096-4d2e-92ee-13015a729770",
       "rows": [
        [
         "0",
         "The Republican president assumed he was helping the industry at the expense of the environment – a trade-off Trump was happy to make since he rejects climate science anyway. ",
         "http://www.msnbc.com/rachel-maddow-show/auto-industry-trump-youre-going-the-wrong-way-emissions",
         "msnbc",
         "environment",
         "left",
         "Biased",
         "Expresses writer’s opinion",
         "[]"
        ],
        [
         "1",
         "Though the indictment of a woman for her own pregnancy loss is unusual in Alabama, it is not unusual for prosecutors to charge people with murder even if they never killed anyone. ",
         "https://eu.usatoday.com/story/news/nation/2019/06/28/alabama-prosecute-marshae-jones-pregnant-woman-who-shot/1600459001/",
         "usa-today",
         "abortion",
         "center",
         "Non-biased",
         "Somewhat factual but also opinionated",
         "[]"
        ],
        [
         "2",
         "Ingraham began the exchange by noting American graduates’ salaries have been suppressed by the flood of foreign graduates.",
         "https://www.breitbart.com/economy/2020/01/12/donald-trump-we-dont-have-enough-foreign-workers/?utm_source=feedburner&utm_medium=feed&utm_campaign=Feed%3A+breitbart+%28Breitbart+News%29",
         "breitbart",
         "immigration",
         "right",
         "No agreement",
         "No agreement",
         "['flood']"
        ],
        [
         "3",
         "The tragedy of America’s 18 years in Afghanistan has been a stubborn refusal to admit the Afghan government is incapable of standing on its own, no matter how much money is poured into it, how much training its troops are given, or how many of its battles American soldiers fight.",
         "http://feedproxy.google.com/~r/breitbart/~3/EReXUAKj_UQ/",
         "breitbart",
         "international-politics-and-world-news",
         "right",
         "Biased",
         "Somewhat factual but also opinionated",
         "['tragedy', 'stubborn']"
        ],
        [
         "4",
         "The justices threw out a challenge from gun rights groups.",
         "https://www.huffpost.com/entry/supreme-court-gun-rights-case_n_5ea6eb53c5b6a30004e59f35",
         "msnbc",
         "gun-control",
         "left",
         "Non-biased",
         "Entirely factual",
         "[]"
        ]
       ],
       "shape": {
        "columns": 8,
        "rows": 5
       }
      },
      "text/html": [
       "<div>\n",
       "<style scoped>\n",
       "    .dataframe tbody tr th:only-of-type {\n",
       "        vertical-align: middle;\n",
       "    }\n",
       "\n",
       "    .dataframe tbody tr th {\n",
       "        vertical-align: top;\n",
       "    }\n",
       "\n",
       "    .dataframe thead th {\n",
       "        text-align: right;\n",
       "    }\n",
       "</style>\n",
       "<table border=\"1\" class=\"dataframe\">\n",
       "  <thead>\n",
       "    <tr style=\"text-align: right;\">\n",
       "      <th></th>\n",
       "      <th>text</th>\n",
       "      <th>news_link</th>\n",
       "      <th>outlet</th>\n",
       "      <th>topic</th>\n",
       "      <th>type</th>\n",
       "      <th>label_bias</th>\n",
       "      <th>label_opinion</th>\n",
       "      <th>biased_words</th>\n",
       "    </tr>\n",
       "  </thead>\n",
       "  <tbody>\n",
       "    <tr>\n",
       "      <th>0</th>\n",
       "      <td>The Republican president assumed he was helpin...</td>\n",
       "      <td>http://www.msnbc.com/rachel-maddow-show/auto-i...</td>\n",
       "      <td>msnbc</td>\n",
       "      <td>environment</td>\n",
       "      <td>left</td>\n",
       "      <td>Biased</td>\n",
       "      <td>Expresses writer’s opinion</td>\n",
       "      <td>[]</td>\n",
       "    </tr>\n",
       "    <tr>\n",
       "      <th>1</th>\n",
       "      <td>Though the indictment of a woman for her own p...</td>\n",
       "      <td>https://eu.usatoday.com/story/news/nation/2019...</td>\n",
       "      <td>usa-today</td>\n",
       "      <td>abortion</td>\n",
       "      <td>center</td>\n",
       "      <td>Non-biased</td>\n",
       "      <td>Somewhat factual but also opinionated</td>\n",
       "      <td>[]</td>\n",
       "    </tr>\n",
       "    <tr>\n",
       "      <th>2</th>\n",
       "      <td>Ingraham began the exchange by noting American...</td>\n",
       "      <td>https://www.breitbart.com/economy/2020/01/12/d...</td>\n",
       "      <td>breitbart</td>\n",
       "      <td>immigration</td>\n",
       "      <td>right</td>\n",
       "      <td>No agreement</td>\n",
       "      <td>No agreement</td>\n",
       "      <td>['flood']</td>\n",
       "    </tr>\n",
       "    <tr>\n",
       "      <th>3</th>\n",
       "      <td>The tragedy of America’s 18 years in Afghanist...</td>\n",
       "      <td>http://feedproxy.google.com/~r/breitbart/~3/ER...</td>\n",
       "      <td>breitbart</td>\n",
       "      <td>international-politics-and-world-news</td>\n",
       "      <td>right</td>\n",
       "      <td>Biased</td>\n",
       "      <td>Somewhat factual but also opinionated</td>\n",
       "      <td>['tragedy', 'stubborn']</td>\n",
       "    </tr>\n",
       "    <tr>\n",
       "      <th>4</th>\n",
       "      <td>The justices threw out a challenge from gun ri...</td>\n",
       "      <td>https://www.huffpost.com/entry/supreme-court-g...</td>\n",
       "      <td>msnbc</td>\n",
       "      <td>gun-control</td>\n",
       "      <td>left</td>\n",
       "      <td>Non-biased</td>\n",
       "      <td>Entirely factual</td>\n",
       "      <td>[]</td>\n",
       "    </tr>\n",
       "  </tbody>\n",
       "</table>\n",
       "</div>"
      ],
      "text/plain": [
       "                                                text  \\\n",
       "0  The Republican president assumed he was helpin...   \n",
       "1  Though the indictment of a woman for her own p...   \n",
       "2  Ingraham began the exchange by noting American...   \n",
       "3  The tragedy of America’s 18 years in Afghanist...   \n",
       "4  The justices threw out a challenge from gun ri...   \n",
       "\n",
       "                                           news_link     outlet  \\\n",
       "0  http://www.msnbc.com/rachel-maddow-show/auto-i...      msnbc   \n",
       "1  https://eu.usatoday.com/story/news/nation/2019...  usa-today   \n",
       "2  https://www.breitbart.com/economy/2020/01/12/d...  breitbart   \n",
       "3  http://feedproxy.google.com/~r/breitbart/~3/ER...  breitbart   \n",
       "4  https://www.huffpost.com/entry/supreme-court-g...      msnbc   \n",
       "\n",
       "                                   topic    type    label_bias  \\\n",
       "0                            environment    left        Biased   \n",
       "1                               abortion  center    Non-biased   \n",
       "2                            immigration   right  No agreement   \n",
       "3  international-politics-and-world-news   right        Biased   \n",
       "4                            gun-control    left    Non-biased   \n",
       "\n",
       "                           label_opinion             biased_words  \n",
       "0             Expresses writer’s opinion                       []  \n",
       "1  Somewhat factual but also opinionated                       []  \n",
       "2                           No agreement                ['flood']  \n",
       "3  Somewhat factual but also opinionated  ['tragedy', 'stubborn']  \n",
       "4                       Entirely factual                       []  "
      ]
     },
     "execution_count": 108,
     "metadata": {},
     "output_type": "execute_result"
    }
   ],
   "source": [
    "if KAGGLE:\n",
    "  SG1_PATH = '/kaggle/input/babe-media-bias-annotations-by-experts/data/final_labels_SG1.xlsx'\n",
    "  SG2_PATH = '/kaggle/input/babe-media-bias-annotations-by-experts/data/final_labels_SG2.xlsx'\n",
    "else:\n",
    "  SG1_PATH = 'data/final_labels_SG1.xlsx'\n",
    "  SG2_PATH = 'data/final_labels_SG2.xlsx'\n",
    "\n",
    "df_sg1 = pd.read_excel(SG1_PATH)\n",
    "df_sg2 = pd.read_excel(SG2_PATH)\n",
    "df = pd.concat([df_sg1, df_sg2], ignore_index=True)\n",
    "\n",
    "df.head()"
   ]
  },
  {
   "cell_type": "code",
   "execution_count": 109,
   "metadata": {},
   "outputs": [
    {
     "data": {
      "text/plain": [
       "text                0\n",
       "news_link          60\n",
       "outlet              0\n",
       "topic               0\n",
       "type             1000\n",
       "label_bias          0\n",
       "label_opinion       0\n",
       "biased_words        0\n",
       "dtype: int64"
      ]
     },
     "execution_count": 109,
     "metadata": {},
     "output_type": "execute_result"
    }
   ],
   "source": [
    "df.isnull().sum()"
   ]
  },
  {
   "cell_type": "code",
   "execution_count": 110,
   "metadata": {},
   "outputs": [
    {
     "data": {
      "text/plain": [
       "text              0\n",
       "news_link        58\n",
       "outlet            0\n",
       "topic             0\n",
       "type              0\n",
       "label_bias        0\n",
       "label_opinion     0\n",
       "biased_words      0\n",
       "dtype: int64"
      ]
     },
     "execution_count": 110,
     "metadata": {},
     "output_type": "execute_result"
    }
   ],
   "source": [
    "# Quitamos las filas que tienen un tipo nulo, ya que es vital para nuestro modelo. \n",
    "# Dejamos las filas con new_link nulo, ya que no necesitamos este valor.\n",
    "df = df.dropna(subset=['type'])\n",
    "df.isnull().sum()"
   ]
  },
  {
   "cell_type": "code",
   "execution_count": 111,
   "metadata": {},
   "outputs": [
    {
     "data": {
      "text/plain": [
       "(4374, 8)"
      ]
     },
     "execution_count": 111,
     "metadata": {},
     "output_type": "execute_result"
    }
   ],
   "source": [
    "df.shape"
   ]
  },
  {
   "cell_type": "markdown",
   "metadata": {},
   "source": [
    "Definiremos helper functions para obtener el score de bias. El criterio de score es el siguiente:\n",
    "\n",
    "Tomando left = -1, center = 0, right = 1, bias como 0 o 1 (dependiendo del valor en la columna 'label_bias'), y la cantidad de palabras en 'biased_words' como el score, calculamos el score de bias como valor de bias * position * cantidad."
   ]
  },
  {
   "cell_type": "code",
   "execution_count": 112,
   "metadata": {},
   "outputs": [],
   "source": [
    "# Returns the bias score for a given row\n",
    "def score_bias(row):\n",
    "    biased_word_count = count_biased_words(row['biased_words'])\n",
    "    position = 1 if row['type'] == 'right' else 0 if row['type'] == 'center' else -1\n",
    "    bias = row['label_bias']\n",
    "    return bias * position * biased_word_count\n",
    "\n",
    "# Count number of biased words in a column. \n",
    "# This expects a specific type of string.\n",
    "# See the parsing function.\n",
    "def count_biased_words(col):\n",
    "    if isinstance(col, str):\n",
    "        col = parse_string_array(col)\n",
    "    return len(col)\n",
    "\n",
    "# Parses the column with biased words.\n",
    "# This columns is in the form of a string: \"['word1', 'word2']\",\n",
    "# and not a list.\n",
    "def parse_string_array(col):\n",
    "    if col == '[]':\n",
    "        return []\n",
    "    res = []\n",
    "    col = col.strip('\"')\n",
    "    col = col.lstrip('[')\n",
    "    col = col.rstrip(']')\n",
    "    for word in col.split(','):\n",
    "        res.append(word.strip(\"'\"))\n",
    "    return res"
   ]
  },
  {
   "cell_type": "code",
   "execution_count": 113,
   "metadata": {},
   "outputs": [],
   "source": [
    "# Only consider agreed upon labels\n",
    "df = df[df['label_bias']!='No agreement']"
   ]
  },
  {
   "cell_type": "code",
   "execution_count": 114,
   "metadata": {},
   "outputs": [
    {
     "data": {
      "application/vnd.microsoft.datawrangler.viewer.v0+json": {
       "columns": [
        {
         "name": "index",
         "rawType": "int64",
         "type": "integer"
        },
        {
         "name": "text",
         "rawType": "object",
         "type": "string"
        },
        {
         "name": "news_link",
         "rawType": "object",
         "type": "string"
        },
        {
         "name": "outlet",
         "rawType": "object",
         "type": "string"
        },
        {
         "name": "topic",
         "rawType": "object",
         "type": "string"
        },
        {
         "name": "type",
         "rawType": "object",
         "type": "string"
        },
        {
         "name": "label_opinion",
         "rawType": "object",
         "type": "string"
        },
        {
         "name": "biased_words",
         "rawType": "object",
         "type": "string"
        },
        {
         "name": "label_bias",
         "rawType": "int32",
         "type": "integer"
        }
       ],
       "conversionMethod": "pd.DataFrame",
       "ref": "71b7d436-852f-409f-a8eb-ed5e1f526b80",
       "rows": [
        [
         "0",
         "The Republican president assumed he was helping the industry at the expense of the environment – a trade-off Trump was happy to make since he rejects climate science anyway. ",
         "http://www.msnbc.com/rachel-maddow-show/auto-industry-trump-youre-going-the-wrong-way-emissions",
         "msnbc",
         "environment",
         "left",
         "Expresses writer’s opinion",
         "[]",
         "1"
        ],
        [
         "1",
         "Though the indictment of a woman for her own pregnancy loss is unusual in Alabama, it is not unusual for prosecutors to charge people with murder even if they never killed anyone. ",
         "https://eu.usatoday.com/story/news/nation/2019/06/28/alabama-prosecute-marshae-jones-pregnant-woman-who-shot/1600459001/",
         "usa-today",
         "abortion",
         "center",
         "Somewhat factual but also opinionated",
         "[]",
         "0"
        ],
        [
         "3",
         "The tragedy of America’s 18 years in Afghanistan has been a stubborn refusal to admit the Afghan government is incapable of standing on its own, no matter how much money is poured into it, how much training its troops are given, or how many of its battles American soldiers fight.",
         "http://feedproxy.google.com/~r/breitbart/~3/EReXUAKj_UQ/",
         "breitbart",
         "international-politics-and-world-news",
         "right",
         "Somewhat factual but also opinionated",
         "['tragedy', 'stubborn']",
         "1"
        ],
        [
         "4",
         "The justices threw out a challenge from gun rights groups.",
         "https://www.huffpost.com/entry/supreme-court-gun-rights-case_n_5ea6eb53c5b6a30004e59f35",
         "msnbc",
         "gun-control",
         "left",
         "Entirely factual",
         "[]",
         "0"
        ],
        [
         "5",
         "A review of his posts in online message boards revealed he wanted to plant neo-Nazi propaganda inside Nevada middle and high schools.",
         "https://eu.usatoday.com/story/news/nation/2020/02/10/white-supremacist-las-vegas-guilty-plea-conor-climo/4717616002/",
         "usa-today",
         "white-nationalism",
         "center",
         "Entirely factual",
         "['plant']",
         "1"
        ]
       ],
       "shape": {
        "columns": 8,
        "rows": 5
       }
      },
      "text/html": [
       "<div>\n",
       "<style scoped>\n",
       "    .dataframe tbody tr th:only-of-type {\n",
       "        vertical-align: middle;\n",
       "    }\n",
       "\n",
       "    .dataframe tbody tr th {\n",
       "        vertical-align: top;\n",
       "    }\n",
       "\n",
       "    .dataframe thead th {\n",
       "        text-align: right;\n",
       "    }\n",
       "</style>\n",
       "<table border=\"1\" class=\"dataframe\">\n",
       "  <thead>\n",
       "    <tr style=\"text-align: right;\">\n",
       "      <th></th>\n",
       "      <th>text</th>\n",
       "      <th>news_link</th>\n",
       "      <th>outlet</th>\n",
       "      <th>topic</th>\n",
       "      <th>type</th>\n",
       "      <th>label_opinion</th>\n",
       "      <th>biased_words</th>\n",
       "      <th>label_bias</th>\n",
       "    </tr>\n",
       "  </thead>\n",
       "  <tbody>\n",
       "    <tr>\n",
       "      <th>0</th>\n",
       "      <td>The Republican president assumed he was helpin...</td>\n",
       "      <td>http://www.msnbc.com/rachel-maddow-show/auto-i...</td>\n",
       "      <td>msnbc</td>\n",
       "      <td>environment</td>\n",
       "      <td>left</td>\n",
       "      <td>Expresses writer’s opinion</td>\n",
       "      <td>[]</td>\n",
       "      <td>1</td>\n",
       "    </tr>\n",
       "    <tr>\n",
       "      <th>1</th>\n",
       "      <td>Though the indictment of a woman for her own p...</td>\n",
       "      <td>https://eu.usatoday.com/story/news/nation/2019...</td>\n",
       "      <td>usa-today</td>\n",
       "      <td>abortion</td>\n",
       "      <td>center</td>\n",
       "      <td>Somewhat factual but also opinionated</td>\n",
       "      <td>[]</td>\n",
       "      <td>0</td>\n",
       "    </tr>\n",
       "    <tr>\n",
       "      <th>3</th>\n",
       "      <td>The tragedy of America’s 18 years in Afghanist...</td>\n",
       "      <td>http://feedproxy.google.com/~r/breitbart/~3/ER...</td>\n",
       "      <td>breitbart</td>\n",
       "      <td>international-politics-and-world-news</td>\n",
       "      <td>right</td>\n",
       "      <td>Somewhat factual but also opinionated</td>\n",
       "      <td>['tragedy', 'stubborn']</td>\n",
       "      <td>1</td>\n",
       "    </tr>\n",
       "    <tr>\n",
       "      <th>4</th>\n",
       "      <td>The justices threw out a challenge from gun ri...</td>\n",
       "      <td>https://www.huffpost.com/entry/supreme-court-g...</td>\n",
       "      <td>msnbc</td>\n",
       "      <td>gun-control</td>\n",
       "      <td>left</td>\n",
       "      <td>Entirely factual</td>\n",
       "      <td>[]</td>\n",
       "      <td>0</td>\n",
       "    </tr>\n",
       "    <tr>\n",
       "      <th>5</th>\n",
       "      <td>A review of his posts in online message boards...</td>\n",
       "      <td>https://eu.usatoday.com/story/news/nation/2020...</td>\n",
       "      <td>usa-today</td>\n",
       "      <td>white-nationalism</td>\n",
       "      <td>center</td>\n",
       "      <td>Entirely factual</td>\n",
       "      <td>['plant']</td>\n",
       "      <td>1</td>\n",
       "    </tr>\n",
       "  </tbody>\n",
       "</table>\n",
       "</div>"
      ],
      "text/plain": [
       "                                                text  \\\n",
       "0  The Republican president assumed he was helpin...   \n",
       "1  Though the indictment of a woman for her own p...   \n",
       "3  The tragedy of America’s 18 years in Afghanist...   \n",
       "4  The justices threw out a challenge from gun ri...   \n",
       "5  A review of his posts in online message boards...   \n",
       "\n",
       "                                           news_link     outlet  \\\n",
       "0  http://www.msnbc.com/rachel-maddow-show/auto-i...      msnbc   \n",
       "1  https://eu.usatoday.com/story/news/nation/2019...  usa-today   \n",
       "3  http://feedproxy.google.com/~r/breitbart/~3/ER...  breitbart   \n",
       "4  https://www.huffpost.com/entry/supreme-court-g...      msnbc   \n",
       "5  https://eu.usatoday.com/story/news/nation/2020...  usa-today   \n",
       "\n",
       "                                   topic    type  \\\n",
       "0                            environment    left   \n",
       "1                               abortion  center   \n",
       "3  international-politics-and-world-news   right   \n",
       "4                            gun-control    left   \n",
       "5                      white-nationalism  center   \n",
       "\n",
       "                           label_opinion             biased_words  label_bias  \n",
       "0             Expresses writer’s opinion                       []           1  \n",
       "1  Somewhat factual but also opinionated                       []           0  \n",
       "3  Somewhat factual but also opinionated  ['tragedy', 'stubborn']           1  \n",
       "4                       Entirely factual                       []           0  \n",
       "5                       Entirely factual                ['plant']           1  "
      ]
     },
     "execution_count": 114,
     "metadata": {},
     "output_type": "execute_result"
    }
   ],
   "source": [
    "# Encode label bias, now that we have only 2 categories: biased and unbiased.\n",
    "df_encoded = pd.get_dummies(df, columns=['label_bias'], drop_first=True).rename(columns={'label_bias_Non-biased':'label_bias'})\n",
    "df_encoded['label_bias'] = (~df_encoded['label_bias']).astype(int)\n",
    "df_encoded.head()"
   ]
  },
  {
   "cell_type": "code",
   "execution_count": 115,
   "metadata": {},
   "outputs": [
    {
     "data": {
      "application/vnd.microsoft.datawrangler.viewer.v0+json": {
       "columns": [
        {
         "name": "index",
         "rawType": "int64",
         "type": "integer"
        },
        {
         "name": "text",
         "rawType": "object",
         "type": "string"
        },
        {
         "name": "news_link",
         "rawType": "object",
         "type": "string"
        },
        {
         "name": "outlet",
         "rawType": "object",
         "type": "string"
        },
        {
         "name": "topic",
         "rawType": "object",
         "type": "string"
        },
        {
         "name": "type",
         "rawType": "object",
         "type": "string"
        },
        {
         "name": "label_bias",
         "rawType": "object",
         "type": "string"
        },
        {
         "name": "label_opinion",
         "rawType": "object",
         "type": "string"
        },
        {
         "name": "biased_words",
         "rawType": "object",
         "type": "string"
        },
        {
         "name": "Bias_Metric",
         "rawType": "int64",
         "type": "integer"
        }
       ],
       "conversionMethod": "pd.DataFrame",
       "ref": "7b33105e-51b4-480a-abca-e076e6b46a7c",
       "rows": [
        [
         "0",
         "The Republican president assumed he was helping the industry at the expense of the environment – a trade-off Trump was happy to make since he rejects climate science anyway. ",
         "http://www.msnbc.com/rachel-maddow-show/auto-industry-trump-youre-going-the-wrong-way-emissions",
         "msnbc",
         "environment",
         "left",
         "Biased",
         "Expresses writer’s opinion",
         "[]",
         "0"
        ],
        [
         "1",
         "Though the indictment of a woman for her own pregnancy loss is unusual in Alabama, it is not unusual for prosecutors to charge people with murder even if they never killed anyone. ",
         "https://eu.usatoday.com/story/news/nation/2019/06/28/alabama-prosecute-marshae-jones-pregnant-woman-who-shot/1600459001/",
         "usa-today",
         "abortion",
         "center",
         "Non-biased",
         "Somewhat factual but also opinionated",
         "[]",
         "0"
        ],
        [
         "3",
         "The tragedy of America’s 18 years in Afghanistan has been a stubborn refusal to admit the Afghan government is incapable of standing on its own, no matter how much money is poured into it, how much training its troops are given, or how many of its battles American soldiers fight.",
         "http://feedproxy.google.com/~r/breitbart/~3/EReXUAKj_UQ/",
         "breitbart",
         "international-politics-and-world-news",
         "right",
         "Biased",
         "Somewhat factual but also opinionated",
         "['tragedy', 'stubborn']",
         "2"
        ],
        [
         "4",
         "The justices threw out a challenge from gun rights groups.",
         "https://www.huffpost.com/entry/supreme-court-gun-rights-case_n_5ea6eb53c5b6a30004e59f35",
         "msnbc",
         "gun-control",
         "left",
         "Non-biased",
         "Entirely factual",
         "[]",
         "0"
        ],
        [
         "5",
         "A review of his posts in online message boards revealed he wanted to plant neo-Nazi propaganda inside Nevada middle and high schools.",
         "https://eu.usatoday.com/story/news/nation/2020/02/10/white-supremacist-las-vegas-guilty-plea-conor-climo/4717616002/",
         "usa-today",
         "white-nationalism",
         "center",
         "Biased",
         "Entirely factual",
         "['plant']",
         "0"
        ]
       ],
       "shape": {
        "columns": 9,
        "rows": 5
       }
      },
      "text/html": [
       "<div>\n",
       "<style scoped>\n",
       "    .dataframe tbody tr th:only-of-type {\n",
       "        vertical-align: middle;\n",
       "    }\n",
       "\n",
       "    .dataframe tbody tr th {\n",
       "        vertical-align: top;\n",
       "    }\n",
       "\n",
       "    .dataframe thead th {\n",
       "        text-align: right;\n",
       "    }\n",
       "</style>\n",
       "<table border=\"1\" class=\"dataframe\">\n",
       "  <thead>\n",
       "    <tr style=\"text-align: right;\">\n",
       "      <th></th>\n",
       "      <th>text</th>\n",
       "      <th>news_link</th>\n",
       "      <th>outlet</th>\n",
       "      <th>topic</th>\n",
       "      <th>type</th>\n",
       "      <th>label_bias</th>\n",
       "      <th>label_opinion</th>\n",
       "      <th>biased_words</th>\n",
       "      <th>Bias_Metric</th>\n",
       "    </tr>\n",
       "  </thead>\n",
       "  <tbody>\n",
       "    <tr>\n",
       "      <th>0</th>\n",
       "      <td>The Republican president assumed he was helpin...</td>\n",
       "      <td>http://www.msnbc.com/rachel-maddow-show/auto-i...</td>\n",
       "      <td>msnbc</td>\n",
       "      <td>environment</td>\n",
       "      <td>left</td>\n",
       "      <td>Biased</td>\n",
       "      <td>Expresses writer’s opinion</td>\n",
       "      <td>[]</td>\n",
       "      <td>0</td>\n",
       "    </tr>\n",
       "    <tr>\n",
       "      <th>1</th>\n",
       "      <td>Though the indictment of a woman for her own p...</td>\n",
       "      <td>https://eu.usatoday.com/story/news/nation/2019...</td>\n",
       "      <td>usa-today</td>\n",
       "      <td>abortion</td>\n",
       "      <td>center</td>\n",
       "      <td>Non-biased</td>\n",
       "      <td>Somewhat factual but also opinionated</td>\n",
       "      <td>[]</td>\n",
       "      <td>0</td>\n",
       "    </tr>\n",
       "    <tr>\n",
       "      <th>3</th>\n",
       "      <td>The tragedy of America’s 18 years in Afghanist...</td>\n",
       "      <td>http://feedproxy.google.com/~r/breitbart/~3/ER...</td>\n",
       "      <td>breitbart</td>\n",
       "      <td>international-politics-and-world-news</td>\n",
       "      <td>right</td>\n",
       "      <td>Biased</td>\n",
       "      <td>Somewhat factual but also opinionated</td>\n",
       "      <td>['tragedy', 'stubborn']</td>\n",
       "      <td>2</td>\n",
       "    </tr>\n",
       "    <tr>\n",
       "      <th>4</th>\n",
       "      <td>The justices threw out a challenge from gun ri...</td>\n",
       "      <td>https://www.huffpost.com/entry/supreme-court-g...</td>\n",
       "      <td>msnbc</td>\n",
       "      <td>gun-control</td>\n",
       "      <td>left</td>\n",
       "      <td>Non-biased</td>\n",
       "      <td>Entirely factual</td>\n",
       "      <td>[]</td>\n",
       "      <td>0</td>\n",
       "    </tr>\n",
       "    <tr>\n",
       "      <th>5</th>\n",
       "      <td>A review of his posts in online message boards...</td>\n",
       "      <td>https://eu.usatoday.com/story/news/nation/2020...</td>\n",
       "      <td>usa-today</td>\n",
       "      <td>white-nationalism</td>\n",
       "      <td>center</td>\n",
       "      <td>Biased</td>\n",
       "      <td>Entirely factual</td>\n",
       "      <td>['plant']</td>\n",
       "      <td>0</td>\n",
       "    </tr>\n",
       "  </tbody>\n",
       "</table>\n",
       "</div>"
      ],
      "text/plain": [
       "                                                text  \\\n",
       "0  The Republican president assumed he was helpin...   \n",
       "1  Though the indictment of a woman for her own p...   \n",
       "3  The tragedy of America’s 18 years in Afghanist...   \n",
       "4  The justices threw out a challenge from gun ri...   \n",
       "5  A review of his posts in online message boards...   \n",
       "\n",
       "                                           news_link     outlet  \\\n",
       "0  http://www.msnbc.com/rachel-maddow-show/auto-i...      msnbc   \n",
       "1  https://eu.usatoday.com/story/news/nation/2019...  usa-today   \n",
       "3  http://feedproxy.google.com/~r/breitbart/~3/ER...  breitbart   \n",
       "4  https://www.huffpost.com/entry/supreme-court-g...      msnbc   \n",
       "5  https://eu.usatoday.com/story/news/nation/2020...  usa-today   \n",
       "\n",
       "                                   topic    type  label_bias  \\\n",
       "0                            environment    left      Biased   \n",
       "1                               abortion  center  Non-biased   \n",
       "3  international-politics-and-world-news   right      Biased   \n",
       "4                            gun-control    left  Non-biased   \n",
       "5                      white-nationalism  center      Biased   \n",
       "\n",
       "                           label_opinion             biased_words  Bias_Metric  \n",
       "0             Expresses writer’s opinion                       []            0  \n",
       "1  Somewhat factual but also opinionated                       []            0  \n",
       "3  Somewhat factual but also opinionated  ['tragedy', 'stubborn']            2  \n",
       "4                       Entirely factual                       []            0  \n",
       "5                       Entirely factual                ['plant']            0  "
      ]
     },
     "execution_count": 115,
     "metadata": {},
     "output_type": "execute_result"
    }
   ],
   "source": [
    "df['Bias_Metric'] = df_encoded[['type', 'label_bias', 'biased_words']].apply(score_bias, axis=1)\n",
    "df.head()"
   ]
  },
  {
   "cell_type": "code",
   "execution_count": 116,
   "metadata": {},
   "outputs": [
    {
     "data": {
      "text/plain": [
       "<Axes: >"
      ]
     },
     "execution_count": 116,
     "metadata": {},
     "output_type": "execute_result"
    },
    {
     "data": {
      "image/png": "[encoded data removed]",
      "text/plain": [
       "<Figure size 640x480 with 1 Axes>"
      ]
     },
     "metadata": {},
     "output_type": "display_data"
    }
   ],
   "source": [
    "# Visualize the distribution of the bias metric\n",
    "df['Bias_Metric'].plot.box()"
   ]
  },
  {
   "cell_type": "code",
   "execution_count": 117,
   "metadata": {},
   "outputs": [],
   "source": [
    "# Remove 'center' articles with labeled as biased, since our score metric would score these as 0.\n",
    "df = df[~((df[\"type\"] == \"center\") & (df[\"label_bias\"] == 1))]"
   ]
  },
  {
   "cell_type": "code",
   "execution_count": null,
   "metadata": {},
   "outputs": [],
   "source": [
    "# Additional features for the model\n",
    "df['word_count'] = df['text'].apply(lambda x: len(x.split()))\n",
    "df['char_count'] = df['text'].apply(lambda x: len(x))"
   ]
  },
  {
   "cell_type": "code",
   "execution_count": null,
   "metadata": {},
   "outputs": [
    {
     "data": {
      "text/plain": [
       "(4210, 11)"
      ]
     },
     "execution_count": 119,
     "metadata": {},
     "output_type": "execute_result"
    }
   ],
   "source": [
    "from scipy.stats import zscore\n",
    "\n",
    "# Remove outliers\n",
    "df[zscore(df['Bias_Metric']) > 4].shape\n",
    "df_clean = df[zscore(df['Bias_Metric']) < 4]\n",
    "df_clean.shape"
   ]
  },
  {
   "cell_type": "code",
   "execution_count": 120,
   "metadata": {},
   "outputs": [],
   "source": [
    "from sklearn.model_selection import train_test_split\n",
    "from sklearn.pipeline import Pipeline\n",
    "from sklearn.preprocessing import OneHotEncoder, StandardScaler\n",
    "from sklearn.feature_extraction.text import TfidfVectorizer\n",
    "from sklearn.ensemble import RandomForestRegressor\n",
    "from sklearn.compose import ColumnTransformer"
   ]
  },
  {
   "cell_type": "code",
   "execution_count": null,
   "metadata": {},
   "outputs": [
    {
     "name": "stdout",
     "output_type": "stream",
     "text": [
      "Train Score: 0.6743265775375515\n",
      "Test Score: 0.4829932456088367\n"
     ]
    }
   ],
   "source": [
    "X = df_clean[['text', 'outlet', 'topic', 'word_count', 'char_count']]\n",
    "y = df_clean['Bias_Metric']\n",
    "\n",
    "X_train, X_test, y_train, y_test = train_test_split(X, y, test_size=0.2, random_state=42)\n",
    "\n",
    "# Preprocessing phase, to transform text into numerical features and encode categorical features, was well as normalize numerical features\n",
    "preprocessor = ColumnTransformer([\n",
    "    ('text', TfidfVectorizer(max_features=5000), 'text'),\n",
    "    ('cat', OneHotEncoder(handle_unknown='ignore'), ['outlet', 'topic']),\n",
    "    ('num', StandardScaler(), ['word_count', 'char_count'])\n",
    "])\n",
    "\n",
    "# Pipeline for the model, first preprocessing the data, then define the model\n",
    "model = Pipeline([\n",
    "    ('preprocessor', preprocessor),\n",
    "    ('regressor', RandomForestRegressor(n_estimators=500, random_state=42, max_depth=10, min_samples_leaf=4, min_samples_split=10))\n",
    "])\n",
    "model.fit(X_train, y_train)\n",
    "print(\"Train Score:\", model.score(X_train, y_train))\n",
    "print(\"Test Score:\", model.score(X_test, y_test))"
   ]
  },
  {
   "cell_type": "code",
   "execution_count": null,
   "metadata": {},
   "outputs": [
    {
     "name": "stdout",
     "output_type": "stream",
     "text": [
      "Stacking Regressor R² Score: 0.6205830117593674\n"
     ]
    }
   ],
   "source": [
    "from sklearn.ensemble import StackingRegressor\n",
    "from sklearn.linear_model import Ridge\n",
    "from sklearn.ensemble import RandomForestRegressor, GradientBoostingRegressor\n",
    "\n",
    "X_train, X_test, y_train, y_test = train_test_split(X, y, test_size=0.2, random_state=42)\n",
    "\n",
    "# A stacking regressor, combining Random Forest and Gradient Boosting models as base models\n",
    "base_models = [\n",
    "    ('f', Pipeline([('preprocessor', preprocessor), ('clf', RandomForestRegressor(n_estimators=500, random_state=42, max_depth=10, min_samples_leaf=4, min_samples_split=10))])),\n",
    "    ('s', Pipeline([('preprocessor', preprocessor), ('gbr', GradientBoostingRegressor(n_estimators=500, random_state=42))]))\n",
    "]\n",
    "\n",
    "# Define meta-model, a Ridge model\n",
    "meta_model = Ridge()\n",
    "\n",
    "stacking_reg = StackingRegressor(estimators=base_models, final_estimator=meta_model, cv=5)\n",
    "\n",
    "stacking_reg.fit(X_train, y_train)\n",
    "print(\"Stacking Regressor R² Score:\", stacking_reg.score(X_test, y_test))"
   ]
  }
 ],
 "metadata": {
  "kernelspec": {
   "display_name": "Python 3",
   "language": "python",
   "name": "python3"
  },
  "language_info": {
   "codemirror_mode": {
    "name": "ipython",
    "version": 3
   },
   "file_extension": ".py",
   "mimetype": "text/x-python",
   "name": "python",
   "nbconvert_exporter": "python",
   "pygments_lexer": "ipython3",
   "version": "3.12.2"
  }
 },
 "nbformat": 4,
 "nbformat_minor": 2
}
